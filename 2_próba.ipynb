{
 "cells": [
  {
   "cell_type": "code",
   "execution_count": 44,
   "metadata": {},
   "outputs": [],
   "source": [
    "import numpy \n",
    "import pandas as pd\n",
    "import matplotlib.pyplot as plt\n",
    "import seaborn as sns\n",
    "%matplotlib inline\n",
    "from sklearn.model_selection import train_test_split\n",
    "from sklearn.preprocessing import LabelEncoder\n",
    "from sklearn.preprocessing import StandardScaler\n",
    "from sklearn.pipeline import Pipeline"
   ]
  },
  {
   "cell_type": "code",
   "execution_count": 45,
   "metadata": {},
   "outputs": [],
   "source": [
    "# Importing libraries for building the neural network\n",
    "from keras.models import Sequential\n",
    "from keras.layers import Dense\n",
    "from keras.wrappers.scikit_learn import KerasClassifier\n",
    "from sklearn.model_selection import StratifiedKFold\n",
    "from sklearn.model_selection import cross_val_score"
   ]
  },
  {
   "cell_type": "code",
   "execution_count": null,
   "metadata": {},
   "outputs": [],
   "source": [
    "from sklearn.utils import shuffle\n",
    "from keras.optimizers import Adam\n",
    "from sklearn.preprocessing import StandardScaler"
   ]
  },
  {
   "cell_type": "code",
   "execution_count": 59,
   "metadata": {},
   "outputs": [
    {
     "data": {
      "text/html": [
       "<div>\n",
       "<style scoped>\n",
       "    .dataframe tbody tr th:only-of-type {\n",
       "        vertical-align: middle;\n",
       "    }\n",
       "\n",
       "    .dataframe tbody tr th {\n",
       "        vertical-align: top;\n",
       "    }\n",
       "\n",
       "    .dataframe thead th {\n",
       "        text-align: right;\n",
       "    }\n",
       "</style>\n",
       "<table border=\"1\" class=\"dataframe\">\n",
       "  <thead>\n",
       "    <tr style=\"text-align: right;\">\n",
       "      <th></th>\n",
       "      <th>Age</th>\n",
       "      <th>Gender</th>\n",
       "      <th>TB</th>\n",
       "      <th>DB</th>\n",
       "      <th>Alkphos</th>\n",
       "      <th>sgpt</th>\n",
       "      <th>sgot</th>\n",
       "      <th>TP</th>\n",
       "      <th>ALB</th>\n",
       "      <th>A/G</th>\n",
       "      <th>Label</th>\n",
       "    </tr>\n",
       "  </thead>\n",
       "  <tbody>\n",
       "    <tr>\n",
       "      <th>0</th>\n",
       "      <td>65</td>\n",
       "      <td>Female</td>\n",
       "      <td>0.7</td>\n",
       "      <td>0.1</td>\n",
       "      <td>187</td>\n",
       "      <td>16</td>\n",
       "      <td>18</td>\n",
       "      <td>6.8</td>\n",
       "      <td>3.3</td>\n",
       "      <td>0.90</td>\n",
       "      <td>1</td>\n",
       "    </tr>\n",
       "    <tr>\n",
       "      <th>1</th>\n",
       "      <td>62</td>\n",
       "      <td>Male</td>\n",
       "      <td>10.9</td>\n",
       "      <td>5.5</td>\n",
       "      <td>699</td>\n",
       "      <td>64</td>\n",
       "      <td>100</td>\n",
       "      <td>7.5</td>\n",
       "      <td>3.2</td>\n",
       "      <td>0.74</td>\n",
       "      <td>1</td>\n",
       "    </tr>\n",
       "    <tr>\n",
       "      <th>2</th>\n",
       "      <td>62</td>\n",
       "      <td>Male</td>\n",
       "      <td>7.3</td>\n",
       "      <td>4.1</td>\n",
       "      <td>490</td>\n",
       "      <td>60</td>\n",
       "      <td>68</td>\n",
       "      <td>7.0</td>\n",
       "      <td>3.3</td>\n",
       "      <td>0.89</td>\n",
       "      <td>1</td>\n",
       "    </tr>\n",
       "    <tr>\n",
       "      <th>3</th>\n",
       "      <td>58</td>\n",
       "      <td>Male</td>\n",
       "      <td>1.0</td>\n",
       "      <td>0.4</td>\n",
       "      <td>182</td>\n",
       "      <td>14</td>\n",
       "      <td>20</td>\n",
       "      <td>6.8</td>\n",
       "      <td>3.4</td>\n",
       "      <td>1.00</td>\n",
       "      <td>1</td>\n",
       "    </tr>\n",
       "    <tr>\n",
       "      <th>4</th>\n",
       "      <td>72</td>\n",
       "      <td>Male</td>\n",
       "      <td>3.9</td>\n",
       "      <td>2.0</td>\n",
       "      <td>195</td>\n",
       "      <td>27</td>\n",
       "      <td>59</td>\n",
       "      <td>7.3</td>\n",
       "      <td>2.4</td>\n",
       "      <td>0.40</td>\n",
       "      <td>1</td>\n",
       "    </tr>\n",
       "  </tbody>\n",
       "</table>\n",
       "</div>"
      ],
      "text/plain": [
       "    Age   Gender    TB   DB  Alkphos  sgpt  sgot   TP  ALB   A/G  Label\n",
       "0     65  Female   0.7  0.1      187    16    18  6.8  3.3  0.90      1\n",
       "1     62    Male  10.9  5.5      699    64   100  7.5  3.2  0.74      1\n",
       "2     62    Male   7.3  4.1      490    60    68  7.0  3.3  0.89      1\n",
       "3     58    Male   1.0  0.4      182    14    20  6.8  3.4  1.00      1\n",
       "4     72    Male   3.9  2.0      195    27    59  7.3  2.4  0.40      1"
      ]
     },
     "execution_count": 59,
     "metadata": {},
     "output_type": "execute_result"
    }
   ],
   "source": [
    "headers = [' Age ','Gender','TB','DB','Alkphos','sgpt','sgot','TP','ALB','A/G','Label']\n",
    "file = pd.read_csv('Indian Liver Patient Dataset (ILPD).csv',sep=',',header=None)\n",
    "file.columns = headers\n",
    "file.head()"
   ]
  },
  {
   "cell_type": "code",
   "execution_count": 60,
   "metadata": {},
   "outputs": [
    {
     "data": {
      "text/plain": [
       "Label\n",
       "1    416\n",
       "2    167\n",
       "dtype: int64"
      ]
     },
     "execution_count": 60,
     "metadata": {},
     "output_type": "execute_result"
    }
   ],
   "source": [
    "file.groupby('Label').size()"
   ]
  },
  {
   "cell_type": "code",
   "execution_count": 61,
   "metadata": {},
   "outputs": [],
   "source": [
    "data = file\n",
    "data = data.dropna()\n",
    "data = shuffle(data)\n",
    "data.rename(columns= {'Gender' : 'Male'}, inplace = True)\n",
    "le = LabelEncoder()\n",
    "le.fit(data['Male'])\n",
    "le2 = LabelEncoder()\n",
    "le2.fit(data['Label'])\n",
    "data['Male'] = le.transform(data['Male'])\n",
    "data['Label'] = le2.transform(data['Label'])\n",
    "#Y_data = data['Label']\n",
    "#X_data = data.drop(columns = 'Label')"
   ]
  },
  {
   "cell_type": "code",
   "execution_count": 89,
   "metadata": {},
   "outputs": [],
   "source": [
    "sc = StandardScaler() \n",
    "data=data.dropna()\n",
    "data2 = sc.fit_transform(data)\n",
    "scaled_df = pd.DataFrame(data, columns=[' Age ','Gender','TB','DB','Alkphos','sgpt','sgot','TP','ALB','A/G'])\n",
    "\n",
    "data[' Age '], data['Alkphos'], data['sgpt'], data['sgot'],data['TP'],data['ALB'],data['TB'],data['DB'] = dt[' Age '], dt['Alkphos'], dt['sgpt'], dt['sgot'] ,dt['TP'],dt['ALB'],dt['TB'],dt['DB']\n",
    "#data[' Age '] = dt[' Age ']"
   ]
  },
  {
   "cell_type": "code",
   "execution_count": 90,
   "metadata": {},
   "outputs": [],
   "source": [
    "#scaled_df.head()"
   ]
  },
  {
   "cell_type": "code",
   "execution_count": 91,
   "metadata": {},
   "outputs": [],
   "source": [
    "Y_data = data['Label']\n",
    "X_data = data.drop(columns = 'Label')"
   ]
  },
  {
   "cell_type": "code",
   "execution_count": 92,
   "metadata": {},
   "outputs": [
    {
     "data": {
      "text/html": [
       "<div>\n",
       "<style scoped>\n",
       "    .dataframe tbody tr th:only-of-type {\n",
       "        vertical-align: middle;\n",
       "    }\n",
       "\n",
       "    .dataframe tbody tr th {\n",
       "        vertical-align: top;\n",
       "    }\n",
       "\n",
       "    .dataframe thead th {\n",
       "        text-align: right;\n",
       "    }\n",
       "</style>\n",
       "<table border=\"1\" class=\"dataframe\">\n",
       "  <thead>\n",
       "    <tr style=\"text-align: right;\">\n",
       "      <th></th>\n",
       "      <th>Age</th>\n",
       "      <th>Male</th>\n",
       "      <th>TB</th>\n",
       "      <th>DB</th>\n",
       "      <th>Alkphos</th>\n",
       "      <th>sgpt</th>\n",
       "      <th>sgot</th>\n",
       "      <th>TP</th>\n",
       "      <th>ALB</th>\n",
       "      <th>A/G</th>\n",
       "    </tr>\n",
       "  </thead>\n",
       "  <tbody>\n",
       "    <tr>\n",
       "      <th>186</th>\n",
       "      <td>2.049487</td>\n",
       "      <td>1</td>\n",
       "      <td>-0.372106</td>\n",
       "      <td>-0.424343</td>\n",
       "      <td>-0.572695</td>\n",
       "      <td>-0.290267</td>\n",
       "      <td>-0.139553</td>\n",
       "      <td>-0.167659</td>\n",
       "      <td>-0.048523</td>\n",
       "      <td>0.69</td>\n",
       "    </tr>\n",
       "    <tr>\n",
       "      <th>167</th>\n",
       "      <td>-0.356766</td>\n",
       "      <td>0</td>\n",
       "      <td>-0.275680</td>\n",
       "      <td>-0.246664</td>\n",
       "      <td>-0.252171</td>\n",
       "      <td>0.037557</td>\n",
       "      <td>-0.125741</td>\n",
       "      <td>1.401035</td>\n",
       "      <td>1.085338</td>\n",
       "      <td>0.47</td>\n",
       "    </tr>\n",
       "    <tr>\n",
       "      <th>295</th>\n",
       "      <td>0.753812</td>\n",
       "      <td>1</td>\n",
       "      <td>0.190383</td>\n",
       "      <td>0.286373</td>\n",
       "      <td>0.097118</td>\n",
       "      <td>0.212397</td>\n",
       "      <td>-0.018697</td>\n",
       "      <td>0.478274</td>\n",
       "      <td>1.085338</td>\n",
       "      <td>0.90</td>\n",
       "    </tr>\n",
       "    <tr>\n",
       "      <th>321</th>\n",
       "      <td>-0.480164</td>\n",
       "      <td>0</td>\n",
       "      <td>-0.404249</td>\n",
       "      <td>-0.459878</td>\n",
       "      <td>-0.395996</td>\n",
       "      <td>-0.115428</td>\n",
       "      <td>-0.243144</td>\n",
       "      <td>1.585587</td>\n",
       "      <td>2.345183</td>\n",
       "      <td>1.10</td>\n",
       "    </tr>\n",
       "    <tr>\n",
       "      <th>396</th>\n",
       "      <td>1.432499</td>\n",
       "      <td>1</td>\n",
       "      <td>-0.420320</td>\n",
       "      <td>-0.459878</td>\n",
       "      <td>-0.432979</td>\n",
       "      <td>-0.344905</td>\n",
       "      <td>-0.329470</td>\n",
       "      <td>-0.075383</td>\n",
       "      <td>0.833369</td>\n",
       "      <td>1.10</td>\n",
       "    </tr>\n",
       "  </tbody>\n",
       "</table>\n",
       "</div>"
      ],
      "text/plain": [
       "         Age   Male        TB        DB   Alkphos      sgpt      sgot  \\\n",
       "186  2.049487     1 -0.372106 -0.424343 -0.572695 -0.290267 -0.139553   \n",
       "167 -0.356766     0 -0.275680 -0.246664 -0.252171  0.037557 -0.125741   \n",
       "295  0.753812     1  0.190383  0.286373  0.097118  0.212397 -0.018697   \n",
       "321 -0.480164     0 -0.404249 -0.459878 -0.395996 -0.115428 -0.243144   \n",
       "396  1.432499     1 -0.420320 -0.459878 -0.432979 -0.344905 -0.329470   \n",
       "\n",
       "           TP       ALB   A/G  \n",
       "186 -0.167659 -0.048523  0.69  \n",
       "167  1.401035  1.085338  0.47  \n",
       "295  0.478274  1.085338  0.90  \n",
       "321  1.585587  2.345183  1.10  \n",
       "396 -0.075383  0.833369  1.10  "
      ]
     },
     "execution_count": 92,
     "metadata": {},
     "output_type": "execute_result"
    }
   ],
   "source": [
    "X_data.head()\n",
    "#Y_data.head()"
   ]
  },
  {
   "cell_type": "code",
   "execution_count": 93,
   "metadata": {},
   "outputs": [],
   "source": [
    "X_train = X_data[:400]\n",
    "X_test = X_data[400:]\n",
    "Y_train = Y_data[:400]\n",
    "Y_test = Y_data[400:]\n",
    "#Y_data.head()"
   ]
  },
  {
   "cell_type": "code",
   "execution_count": 126,
   "metadata": {},
   "outputs": [],
   "source": [
    "model = Sequential()\n",
    "#model.add(Dense(units = 9,activation = 'relu',input_dim = 10))\n",
    "#model.add(Dense(units = 6,activation = 'relu'))\n",
    "#model.add(Dense(units = 10,activation = 'relu'))\n",
    "#model.add(Dense(units = 1,kernel_initializer= 'normal', activation = 'sigmoid'))\n",
    "model.add(Dense(units = 1,kernel_initializer= 'normal', activation = 'sigmoid',input_dim = 10))"
   ]
  },
  {
   "cell_type": "code",
   "execution_count": 127,
   "metadata": {},
   "outputs": [],
   "source": [
    "#model.compile(tf.keras.optimizers.Adam(lr = .0001),loss = 'binary_crossentropy', metrics = ['accuracy'])\n",
    "model.compile(optimizer= Adam(lr = 0.01),loss= 'binary_crossentropy', metrics= ['accuracy'])"
   ]
  },
  {
   "cell_type": "code",
   "execution_count": 128,
   "metadata": {},
   "outputs": [
    {
     "name": "stdout",
     "output_type": "stream",
     "text": [
      "Train on 400 samples, validate on 175 samples\n",
      "Epoch 1/30\n",
      " - 0s - loss: 0.6461 - acc: 0.6775 - val_loss: 0.6171 - val_acc: 0.7086\n",
      "Epoch 2/30\n",
      " - 0s - loss: 0.6021 - acc: 0.7175 - val_loss: 0.6118 - val_acc: 0.7086\n",
      "Epoch 3/30\n",
      " - 0s - loss: 0.5993 - acc: 0.7200 - val_loss: 0.6165 - val_acc: 0.7086\n",
      "Epoch 4/30\n",
      " - 0s - loss: 0.5968 - acc: 0.7200 - val_loss: 0.6205 - val_acc: 0.7086\n",
      "Epoch 5/30\n",
      " - 0s - loss: 0.5958 - acc: 0.7200 - val_loss: 0.6197 - val_acc: 0.7086\n",
      "Epoch 6/30\n",
      " - 0s - loss: 0.5934 - acc: 0.7200 - val_loss: 0.6195 - val_acc: 0.7086\n",
      "Epoch 7/30\n",
      " - 0s - loss: 0.5912 - acc: 0.7200 - val_loss: 0.6145 - val_acc: 0.7086\n",
      "Epoch 8/30\n",
      " - 0s - loss: 0.5888 - acc: 0.7200 - val_loss: 0.6166 - val_acc: 0.7086\n",
      "Epoch 9/30\n",
      " - 0s - loss: 0.5901 - acc: 0.7150 - val_loss: 0.6226 - val_acc: 0.7086\n",
      "Epoch 10/30\n",
      " - 0s - loss: 0.5864 - acc: 0.7175 - val_loss: 0.6238 - val_acc: 0.7086\n",
      "Epoch 11/30\n",
      " - 0s - loss: 0.5883 - acc: 0.7200 - val_loss: 0.6202 - val_acc: 0.7086\n",
      "Epoch 12/30\n",
      " - 0s - loss: 0.5850 - acc: 0.7225 - val_loss: 0.6249 - val_acc: 0.7086\n",
      "Epoch 13/30\n",
      " - 0s - loss: 0.5845 - acc: 0.7200 - val_loss: 0.6219 - val_acc: 0.7086\n",
      "Epoch 14/30\n",
      " - 0s - loss: 0.5831 - acc: 0.7200 - val_loss: 0.6294 - val_acc: 0.7086\n",
      "Epoch 15/30\n",
      " - 0s - loss: 0.5831 - acc: 0.7175 - val_loss: 0.6283 - val_acc: 0.7086\n",
      "Epoch 16/30\n",
      " - 0s - loss: 0.5856 - acc: 0.7200 - val_loss: 0.6339 - val_acc: 0.7086\n",
      "Epoch 17/30\n",
      " - 0s - loss: 0.5849 - acc: 0.7150 - val_loss: 0.6294 - val_acc: 0.6971\n",
      "Epoch 18/30\n",
      " - 0s - loss: 0.5815 - acc: 0.7175 - val_loss: 0.6325 - val_acc: 0.7143\n",
      "Epoch 19/30\n",
      " - 0s - loss: 0.5811 - acc: 0.7200 - val_loss: 0.6290 - val_acc: 0.7029\n",
      "Epoch 20/30\n",
      " - 0s - loss: 0.5802 - acc: 0.7175 - val_loss: 0.6358 - val_acc: 0.7086\n",
      "Epoch 21/30\n",
      " - 0s - loss: 0.5798 - acc: 0.7200 - val_loss: 0.6302 - val_acc: 0.7086\n",
      "Epoch 22/30\n",
      " - 0s - loss: 0.5785 - acc: 0.7200 - val_loss: 0.6324 - val_acc: 0.7086\n",
      "Epoch 23/30\n",
      " - 0s - loss: 0.5797 - acc: 0.7175 - val_loss: 0.6327 - val_acc: 0.7029\n",
      "Epoch 24/30\n",
      " - 0s - loss: 0.5776 - acc: 0.7200 - val_loss: 0.6368 - val_acc: 0.7029\n",
      "Epoch 25/30\n",
      " - 0s - loss: 0.5773 - acc: 0.7200 - val_loss: 0.6354 - val_acc: 0.7029\n",
      "Epoch 26/30\n",
      " - 0s - loss: 0.5780 - acc: 0.7175 - val_loss: 0.6381 - val_acc: 0.7029\n",
      "Epoch 27/30\n",
      " - 0s - loss: 0.5778 - acc: 0.7150 - val_loss: 0.6259 - val_acc: 0.7086\n",
      "Epoch 28/30\n",
      " - 0s - loss: 0.5777 - acc: 0.7200 - val_loss: 0.6369 - val_acc: 0.7086\n",
      "Epoch 29/30\n",
      " - 0s - loss: 0.5752 - acc: 0.7200 - val_loss: 0.6350 - val_acc: 0.7029\n",
      "Epoch 30/30\n",
      " - 0s - loss: 0.5748 - acc: 0.7175 - val_loss: 0.6336 - val_acc: 0.7086\n"
     ]
    },
    {
     "data": {
      "text/plain": [
       "<keras.callbacks.History at 0xd5c7c5d2b0>"
      ]
     },
     "execution_count": 128,
     "metadata": {},
     "output_type": "execute_result"
    }
   ],
   "source": [
    "model.fit(X_train,Y_train, epochs = 30,batch_size = 10,shuffle = True, verbose = 2,validation_data=(X_test,Y_test))"
   ]
  },
  {
   "cell_type": "code",
   "execution_count": 59,
   "metadata": {},
   "outputs": [
    {
     "data": {
      "text/html": [
       "<div>\n",
       "<style scoped>\n",
       "    .dataframe tbody tr th:only-of-type {\n",
       "        vertical-align: middle;\n",
       "    }\n",
       "\n",
       "    .dataframe tbody tr th {\n",
       "        vertical-align: top;\n",
       "    }\n",
       "\n",
       "    .dataframe thead th {\n",
       "        text-align: right;\n",
       "    }\n",
       "</style>\n",
       "<table border=\"1\" class=\"dataframe\">\n",
       "  <thead>\n",
       "    <tr style=\"text-align: right;\">\n",
       "      <th></th>\n",
       "      <th>Age</th>\n",
       "      <th>Gender</th>\n",
       "      <th>TB</th>\n",
       "      <th>DB</th>\n",
       "      <th>Alkphos</th>\n",
       "      <th>sgpt</th>\n",
       "      <th>sgot</th>\n",
       "      <th>TP</th>\n",
       "      <th>ALB</th>\n",
       "      <th>A/G</th>\n",
       "      <th>Label</th>\n",
       "    </tr>\n",
       "  </thead>\n",
       "  <tbody>\n",
       "    <tr>\n",
       "      <th>550</th>\n",
       "      <td>46</td>\n",
       "      <td>Male</td>\n",
       "      <td>3.3</td>\n",
       "      <td>1.5</td>\n",
       "      <td>172</td>\n",
       "      <td>25</td>\n",
       "      <td>41</td>\n",
       "      <td>5.6</td>\n",
       "      <td>2.4</td>\n",
       "      <td>0.70</td>\n",
       "      <td>1</td>\n",
       "    </tr>\n",
       "    <tr>\n",
       "      <th>581</th>\n",
       "      <td>31</td>\n",
       "      <td>Male</td>\n",
       "      <td>1.3</td>\n",
       "      <td>0.5</td>\n",
       "      <td>184</td>\n",
       "      <td>29</td>\n",
       "      <td>32</td>\n",
       "      <td>6.8</td>\n",
       "      <td>3.4</td>\n",
       "      <td>1.00</td>\n",
       "      <td>1</td>\n",
       "    </tr>\n",
       "    <tr>\n",
       "      <th>314</th>\n",
       "      <td>26</td>\n",
       "      <td>Male</td>\n",
       "      <td>2.0</td>\n",
       "      <td>0.9</td>\n",
       "      <td>195</td>\n",
       "      <td>24</td>\n",
       "      <td>65</td>\n",
       "      <td>7.8</td>\n",
       "      <td>4.3</td>\n",
       "      <td>1.20</td>\n",
       "      <td>1</td>\n",
       "    </tr>\n",
       "    <tr>\n",
       "      <th>560</th>\n",
       "      <td>66</td>\n",
       "      <td>Male</td>\n",
       "      <td>15.2</td>\n",
       "      <td>7.7</td>\n",
       "      <td>356</td>\n",
       "      <td>321</td>\n",
       "      <td>562</td>\n",
       "      <td>6.5</td>\n",
       "      <td>2.2</td>\n",
       "      <td>0.40</td>\n",
       "      <td>1</td>\n",
       "    </tr>\n",
       "    <tr>\n",
       "      <th>434</th>\n",
       "      <td>30</td>\n",
       "      <td>Female</td>\n",
       "      <td>0.7</td>\n",
       "      <td>0.2</td>\n",
       "      <td>194</td>\n",
       "      <td>32</td>\n",
       "      <td>36</td>\n",
       "      <td>7.5</td>\n",
       "      <td>3.6</td>\n",
       "      <td>0.92</td>\n",
       "      <td>2</td>\n",
       "    </tr>\n",
       "  </tbody>\n",
       "</table>\n",
       "</div>"
      ],
      "text/plain": [
       "      Age   Gender    TB   DB  Alkphos  sgpt  sgot   TP  ALB   A/G  Label\n",
       "550     46    Male   3.3  1.5      172    25    41  5.6  2.4  0.70      1\n",
       "581     31    Male   1.3  0.5      184    29    32  6.8  3.4  1.00      1\n",
       "314     26    Male   2.0  0.9      195    24    65  7.8  4.3  1.20      1\n",
       "560     66    Male  15.2  7.7      356   321   562  6.5  2.2  0.40      1\n",
       "434     30  Female   0.7  0.2      194    32    36  7.5  3.6  0.92      2"
      ]
     },
     "execution_count": 59,
     "metadata": {},
     "output_type": "execute_result"
    }
   ],
   "source": [
    "data.head()"
   ]
  },
  {
   "cell_type": "code",
   "execution_count": 26,
   "metadata": {},
   "outputs": [
    {
     "data": {
      "text/plain": [
       "(179, 10)"
      ]
     },
     "execution_count": 26,
     "metadata": {},
     "output_type": "execute_result"
    }
   ],
   "source": [
    "X_train.head()\n",
    "Y_train.head()\n",
    "X_test.shape\n",
    "#Y_test.shape"
   ]
  },
  {
   "cell_type": "code",
   "execution_count": 58,
   "metadata": {},
   "outputs": [
    {
     "data": {
      "text/plain": [
       "47"
      ]
     },
     "execution_count": 58,
     "metadata": {},
     "output_type": "execute_result"
    }
   ],
   "source": [
    "Y_test.values.sum()"
   ]
  },
  {
   "cell_type": "code",
   "execution_count": 72,
   "metadata": {},
   "outputs": [],
   "source": [
    "dicty = {'activation' : 'relu', 'units' : 9, 'input_dim' : 9}\n",
    "def gg(**kwargs):\n",
    "    model = Sequential()\n",
    "    model.add(Dense(**kwargs))\n",
    "    model.add(Dense(units = 1,kernel_initializer= 'normal', activation = 'sigmoid'))\n",
    "    return model\n",
    "    #print(**kwargs)"
   ]
  },
  {
   "cell_type": "code",
   "execution_count": 77,
   "metadata": {},
   "outputs": [
    {
     "data": {
      "text/plain": [
       "[{'class_name': 'Dense',\n",
       "  'config': {'name': 'dense_32',\n",
       "   'trainable': True,\n",
       "   'batch_input_shape': (None, 9),\n",
       "   'dtype': 'float32',\n",
       "   'units': 9,\n",
       "   'activation': 'relu',\n",
       "   'use_bias': True,\n",
       "   'kernel_initializer': {'class_name': 'VarianceScaling',\n",
       "    'config': {'scale': 1.0,\n",
       "     'mode': 'fan_avg',\n",
       "     'distribution': 'uniform',\n",
       "     'seed': None}},\n",
       "   'bias_initializer': {'class_name': 'Zeros', 'config': {}},\n",
       "   'kernel_regularizer': None,\n",
       "   'bias_regularizer': None,\n",
       "   'activity_regularizer': None,\n",
       "   'kernel_constraint': None,\n",
       "   'bias_constraint': None}},\n",
       " {'class_name': 'Dense',\n",
       "  'config': {'name': 'dense_33',\n",
       "   'trainable': True,\n",
       "   'units': 1,\n",
       "   'activation': 'sigmoid',\n",
       "   'use_bias': True,\n",
       "   'kernel_initializer': {'class_name': 'RandomNormal',\n",
       "    'config': {'mean': 0.0, 'stddev': 0.05, 'seed': None}},\n",
       "   'bias_initializer': {'class_name': 'Zeros', 'config': {}},\n",
       "   'kernel_regularizer': None,\n",
       "   'bias_regularizer': None,\n",
       "   'activity_regularizer': None,\n",
       "   'kernel_constraint': None,\n",
       "   'bias_constraint': None}}]"
      ]
     },
     "execution_count": 77,
     "metadata": {},
     "output_type": "execute_result"
    }
   ],
   "source": [
    "mody = gg(**dicty)\n",
    "mody.get_config()"
   ]
  },
  {
   "cell_type": "code",
   "execution_count": 133,
   "metadata": {},
   "outputs": [],
   "source": [
    "y_pred = model.predict(X_test)"
   ]
  },
  {
   "cell_type": "code",
   "execution_count": 130,
   "metadata": {},
   "outputs": [],
   "source": [
    "from sklearn.metrics import confusion_matrix"
   ]
  },
  {
   "cell_type": "code",
   "execution_count": 152,
   "metadata": {},
   "outputs": [],
   "source": [
    "cm = confusion_matrix(Y_test, (y_pred > 0.1))"
   ]
  },
  {
   "cell_type": "code",
   "execution_count": 157,
   "metadata": {},
   "outputs": [
    {
     "name": "stdout",
     "output_type": "stream",
     "text": [
      "[[  0 124]\n",
      " [  1  50]]\n"
     ]
    }
   ],
   "source": [
    "print(cm)"
   ]
  },
  {
   "cell_type": "code",
   "execution_count": 139,
   "metadata": {},
   "outputs": [
    {
     "data": {
      "text/plain": [
       "561    0\n",
       "26     0\n",
       "448    0\n",
       "223    1\n",
       "315    1\n",
       "210    0\n",
       "231    0\n",
       "89     0\n",
       "488    1\n",
       "567    0\n",
       "395    1\n",
       "434    1\n",
       "430    0\n",
       "116    0\n",
       "394    0\n",
       "416    0\n",
       "257    0\n",
       "523    0\n",
       "531    0\n",
       "503    0\n",
       "463    0\n",
       "443    0\n",
       "32     1\n",
       "378    0\n",
       "528    0\n",
       "317    0\n",
       "506    0\n",
       "540    1\n",
       "551    1\n",
       "140    1\n",
       "      ..\n",
       "13     0\n",
       "31     0\n",
       "471    1\n",
       "284    0\n",
       "479    0\n",
       "507    0\n",
       "428    1\n",
       "514    0\n",
       "124    1\n",
       "369    0\n",
       "314    0\n",
       "508    0\n",
       "309    0\n",
       "6      0\n",
       "355    1\n",
       "194    1\n",
       "354    0\n",
       "19     0\n",
       "482    0\n",
       "239    0\n",
       "480    1\n",
       "40     0\n",
       "387    0\n",
       "400    1\n",
       "432    0\n",
       "301    0\n",
       "516    0\n",
       "52     0\n",
       "56     1\n",
       "566    1\n",
       "Name: Label, Length: 175, dtype: int64"
      ]
     },
     "execution_count": 139,
     "metadata": {},
     "output_type": "execute_result"
    }
   ],
   "source": [
    "Y_test"
   ]
  },
  {
   "cell_type": "code",
   "execution_count": null,
   "metadata": {},
   "outputs": [],
   "source": []
  }
 ],
 "metadata": {
  "kernelspec": {
   "display_name": "Python 3",
   "language": "python",
   "name": "python3"
  },
  "language_info": {
   "codemirror_mode": {
    "name": "ipython",
    "version": 3
   },
   "file_extension": ".py",
   "mimetype": "text/x-python",
   "name": "python",
   "nbconvert_exporter": "python",
   "pygments_lexer": "ipython3",
   "version": "3.6.5"
  }
 },
 "nbformat": 4,
 "nbformat_minor": 2
}
