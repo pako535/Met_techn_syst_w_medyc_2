{
 "cells": [
  {
   "cell_type": "code",
   "execution_count": 50,
   "metadata": {},
   "outputs": [],
   "source": [
    "import numpy \n",
    "import pandas as pd\n",
    "import matplotlib.pyplot as plt\n",
    "import seaborn as sns\n",
    "%matplotlib inline\n",
    "from sklearn.model_selection import train_test_split\n",
    "from sklearn.preprocessing import LabelEncoder\n",
    "from sklearn.preprocessing import StandardScaler\n",
    "from sklearn.pipeline import Pipeline\n",
    "from scipy.stats import pearsonr"
   ]
  },
  {
   "cell_type": "code",
   "execution_count": 51,
   "metadata": {},
   "outputs": [],
   "source": [
    "# Importing libraries for building the neural network\n",
    "from keras.models import Sequential\n",
    "from keras.layers import Dense\n",
    "from keras.wrappers.scikit_learn import KerasClassifier\n",
    "from sklearn.model_selection import StratifiedKFold\n",
    "from sklearn.model_selection import cross_val_score"
   ]
  },
  {
   "cell_type": "code",
   "execution_count": 52,
   "metadata": {},
   "outputs": [],
   "source": [
    "from sklearn.utils import shuffle\n",
    "from keras.optimizers import Adam\n",
    "from sklearn.preprocessing import StandardScaler"
   ]
  },
  {
   "cell_type": "code",
   "execution_count": 53,
   "metadata": {},
   "outputs": [],
   "source": [
    "from numpy.random import seed\n",
    "seed(44)\n",
    "from tensorflow import set_random_seed\n",
    "set_random_seed(45)"
   ]
  },
  {
   "cell_type": "code",
   "execution_count": 54,
   "metadata": {},
   "outputs": [
    {
     "data": {
      "text/html": [
       "<div>\n",
       "<style scoped>\n",
       "    .dataframe tbody tr th:only-of-type {\n",
       "        vertical-align: middle;\n",
       "    }\n",
       "\n",
       "    .dataframe tbody tr th {\n",
       "        vertical-align: top;\n",
       "    }\n",
       "\n",
       "    .dataframe thead th {\n",
       "        text-align: right;\n",
       "    }\n",
       "</style>\n",
       "<table border=\"1\" class=\"dataframe\">\n",
       "  <thead>\n",
       "    <tr style=\"text-align: right;\">\n",
       "      <th></th>\n",
       "      <th>Age</th>\n",
       "      <th>Gender</th>\n",
       "      <th>TB</th>\n",
       "      <th>DB</th>\n",
       "      <th>Alkphos</th>\n",
       "      <th>sgpt</th>\n",
       "      <th>sgot</th>\n",
       "      <th>TP</th>\n",
       "      <th>ALB</th>\n",
       "      <th>A/G</th>\n",
       "      <th>Label</th>\n",
       "    </tr>\n",
       "  </thead>\n",
       "  <tbody>\n",
       "    <tr>\n",
       "      <th>0</th>\n",
       "      <td>65</td>\n",
       "      <td>Female</td>\n",
       "      <td>0.7</td>\n",
       "      <td>0.1</td>\n",
       "      <td>187</td>\n",
       "      <td>16</td>\n",
       "      <td>18</td>\n",
       "      <td>6.8</td>\n",
       "      <td>3.3</td>\n",
       "      <td>0.90</td>\n",
       "      <td>1</td>\n",
       "    </tr>\n",
       "    <tr>\n",
       "      <th>1</th>\n",
       "      <td>62</td>\n",
       "      <td>Male</td>\n",
       "      <td>10.9</td>\n",
       "      <td>5.5</td>\n",
       "      <td>699</td>\n",
       "      <td>64</td>\n",
       "      <td>100</td>\n",
       "      <td>7.5</td>\n",
       "      <td>3.2</td>\n",
       "      <td>0.74</td>\n",
       "      <td>1</td>\n",
       "    </tr>\n",
       "    <tr>\n",
       "      <th>2</th>\n",
       "      <td>62</td>\n",
       "      <td>Male</td>\n",
       "      <td>7.3</td>\n",
       "      <td>4.1</td>\n",
       "      <td>490</td>\n",
       "      <td>60</td>\n",
       "      <td>68</td>\n",
       "      <td>7.0</td>\n",
       "      <td>3.3</td>\n",
       "      <td>0.89</td>\n",
       "      <td>1</td>\n",
       "    </tr>\n",
       "    <tr>\n",
       "      <th>3</th>\n",
       "      <td>58</td>\n",
       "      <td>Male</td>\n",
       "      <td>1.0</td>\n",
       "      <td>0.4</td>\n",
       "      <td>182</td>\n",
       "      <td>14</td>\n",
       "      <td>20</td>\n",
       "      <td>6.8</td>\n",
       "      <td>3.4</td>\n",
       "      <td>1.00</td>\n",
       "      <td>1</td>\n",
       "    </tr>\n",
       "    <tr>\n",
       "      <th>4</th>\n",
       "      <td>72</td>\n",
       "      <td>Male</td>\n",
       "      <td>3.9</td>\n",
       "      <td>2.0</td>\n",
       "      <td>195</td>\n",
       "      <td>27</td>\n",
       "      <td>59</td>\n",
       "      <td>7.3</td>\n",
       "      <td>2.4</td>\n",
       "      <td>0.40</td>\n",
       "      <td>1</td>\n",
       "    </tr>\n",
       "  </tbody>\n",
       "</table>\n",
       "</div>"
      ],
      "text/plain": [
       "    Age   Gender    TB   DB  Alkphos  sgpt  sgot   TP  ALB   A/G  Label\n",
       "0     65  Female   0.7  0.1      187    16    18  6.8  3.3  0.90      1\n",
       "1     62    Male  10.9  5.5      699    64   100  7.5  3.2  0.74      1\n",
       "2     62    Male   7.3  4.1      490    60    68  7.0  3.3  0.89      1\n",
       "3     58    Male   1.0  0.4      182    14    20  6.8  3.4  1.00      1\n",
       "4     72    Male   3.9  2.0      195    27    59  7.3  2.4  0.40      1"
      ]
     },
     "execution_count": 54,
     "metadata": {},
     "output_type": "execute_result"
    }
   ],
   "source": [
    "headers = [' Age ','Gender','TB','DB','Alkphos','sgpt','sgot','TP','ALB','A/G','Label']\n",
    "file = pd.read_csv('Indian Liver Patient Dataset (ILPD).csv',sep=',',header=None)\n",
    "file.columns = headers\n",
    "file.head()"
   ]
  },
  {
   "cell_type": "code",
   "execution_count": 55,
   "metadata": {},
   "outputs": [
    {
     "data": {
      "text/plain": [
       "Label\n",
       "1    416\n",
       "2    167\n",
       "dtype: int64"
      ]
     },
     "execution_count": 55,
     "metadata": {},
     "output_type": "execute_result"
    }
   ],
   "source": [
    "file.groupby('Label').size()"
   ]
  },
  {
   "cell_type": "code",
   "execution_count": 56,
   "metadata": {},
   "outputs": [],
   "source": [
    "data = file\n",
    "data = data.dropna()\n",
    "data = shuffle(data)\n",
    "data.rename(columns= {'Gender' : 'Male'}, inplace = True)\n",
    "le = LabelEncoder()\n",
    "le.fit(data['Male'])\n",
    "le2 = LabelEncoder()\n",
    "le2.fit(data['Label'])\n",
    "data['Male'] = le.transform(data['Male'])\n",
    "data['Label'] = le2.transform(data['Label'])\n",
    "#Y_data = data['Label']\n",
    "#X_data = data.drop(columns = 'Label')"
   ]
  },
  {
   "cell_type": "code",
   "execution_count": 57,
   "metadata": {},
   "outputs": [],
   "source": [
    "sc = StandardScaler() \n",
    "data=data.dropna()\n",
    "data2 = sc.fit_transform(data)\n",
    "dt = pd.DataFrame(data, columns=[' Age ','Gender','TB','DB','Alkphos','sgpt','sgot','TP','ALB','A/G'])\n",
    "\n",
    "data[' Age '], data['Alkphos'], data['sgpt'], data['sgot'],data['TP'],data['ALB'],data['TB'],data['DB'] = dt[' Age '], dt['Alkphos'], dt['sgpt'], dt['sgot'] ,dt['TP'],dt['ALB'],dt['TB'],dt['DB']\n",
    "#data[' Age '] = dt[' Age ']"
   ]
  },
  {
   "cell_type": "code",
   "execution_count": 58,
   "metadata": {},
   "outputs": [],
   "source": [
    "#scaled_df.head()"
   ]
  },
  {
   "cell_type": "code",
   "execution_count": 59,
   "metadata": {},
   "outputs": [],
   "source": [
    "Y_data = data['Label']\n",
    "X_data = data.drop(columns = 'Label')"
   ]
  },
  {
   "cell_type": "code",
   "execution_count": 60,
   "metadata": {},
   "outputs": [
    {
     "name": "stdout",
     "output_type": "stream",
     "text": [
      "{' Age ': (-0.1331635832542355, 0.0013198543076096858), 'Male': (-0.0813494452328912, 0.050408888137337994), 'TB': (-0.22021794023640465, 8.632557516911677e-08), 'DB': (-0.24627292851767457, 1.9032113202237087e-09), 'Alkphos': (-0.18336329528335157, 8.982060243392846e-06), 'sgpt': (-0.16311694118293912, 8.04874509231022e-05), 'sgot': (-0.15183446457192337, 0.0002455184341049041), 'TP': (0.033613768990284495, 0.4194885810003838), 'ALB': (0.15976956413427743, 0.0001129411086244052), 'A/G': (0.16313136324394475, 8.036889840643368e-05)}\n"
     ]
    }
   ],
   "source": [
    "pearsons = {}\n",
    "for column in X_data.columns:\n",
    "    pearsons[column] = pearsonr(X_data[column],Y_data)\n",
    "print(pearsons)"
   ]
  },
  {
   "cell_type": "code",
   "execution_count": 61,
   "metadata": {},
   "outputs": [],
   "source": [
    "X_train = X_data[:400]\n",
    "X_test = X_data[400:]\n",
    "Y_train = Y_data[:400]\n",
    "Y_test = Y_data[400:]\n",
    "#Y_data.head()"
   ]
  },
  {
   "cell_type": "code",
   "execution_count": 62,
   "metadata": {},
   "outputs": [],
   "source": [
    "model = Sequential()\n",
    "model.add(Dense(units = 10,activation = 'relu',input_shape = (10,)))\n",
    "#model.add(Dense(units = 6,activation = 'relu'))\n",
    "#model.add(Dense(units = 10,activation = 'relu'))\n",
    "model.add(Dense(units = 1,kernel_initializer= 'normal', activation = 'sigmoid'))\n",
    "#model.add(Dense(units = 1,kernel_initializer= 'normal', activation = 'sigmoid',input_dim = 10))"
   ]
  },
  {
   "cell_type": "code",
   "execution_count": 63,
   "metadata": {},
   "outputs": [],
   "source": [
    "#model.compile(tf.keras.optimizers.Adam(lr = .0001),loss = 'binary_crossentropy', metrics = ['accuracy'])\n",
    "model.compile(optimizer= Adam(lr = 0.01),loss= 'binary_crossentropy', metrics= ['accuracy'])"
   ]
  },
  {
   "cell_type": "code",
   "execution_count": 64,
   "metadata": {},
   "outputs": [
    {
     "name": "stdout",
     "output_type": "stream",
     "text": [
      "Train on 400 samples, validate on 179 samples\n",
      "Epoch 1/100\n",
      " - 0s - loss: 1.7654 - acc: 0.6600 - val_loss: 0.6743 - val_acc: 0.6927\n",
      "Epoch 2/100\n",
      " - 0s - loss: 0.5980 - acc: 0.6850 - val_loss: 0.5522 - val_acc: 0.6927\n",
      "Epoch 3/100\n",
      " - 0s - loss: 0.5446 - acc: 0.7250 - val_loss: 0.5671 - val_acc: 0.6927\n",
      "Epoch 4/100\n",
      " - 0s - loss: 0.5341 - acc: 0.7250 - val_loss: 0.5428 - val_acc: 0.6927\n",
      "Epoch 5/100\n",
      " - 0s - loss: 0.5485 - acc: 0.7225 - val_loss: 0.5711 - val_acc: 0.6927\n",
      "Epoch 6/100\n",
      " - 0s - loss: 0.5421 - acc: 0.7250 - val_loss: 0.5301 - val_acc: 0.6927\n",
      "Epoch 7/100\n",
      " - 0s - loss: 0.5359 - acc: 0.7250 - val_loss: 0.5212 - val_acc: 0.6927\n",
      "Epoch 8/100\n",
      " - 0s - loss: 0.5233 - acc: 0.7250 - val_loss: 0.5458 - val_acc: 0.6927\n",
      "Epoch 9/100\n",
      " - 0s - loss: 0.5429 - acc: 0.7375 - val_loss: 0.5156 - val_acc: 0.6927\n",
      "Epoch 10/100\n",
      " - 0s - loss: 0.5239 - acc: 0.7225 - val_loss: 0.5535 - val_acc: 0.6927\n",
      "Epoch 11/100\n",
      " - 0s - loss: 0.5295 - acc: 0.7200 - val_loss: 0.5357 - val_acc: 0.7095\n",
      "Epoch 12/100\n",
      " - 0s - loss: 0.5173 - acc: 0.7225 - val_loss: 0.5104 - val_acc: 0.6927\n",
      "Epoch 13/100\n",
      " - 0s - loss: 0.5178 - acc: 0.7225 - val_loss: 0.5075 - val_acc: 0.6927\n",
      "Epoch 14/100\n",
      " - 0s - loss: 0.5220 - acc: 0.7325 - val_loss: 0.5065 - val_acc: 0.6927\n",
      "Epoch 15/100\n",
      " - 0s - loss: 0.5159 - acc: 0.7350 - val_loss: 0.5109 - val_acc: 0.7151\n",
      "Epoch 16/100\n",
      " - 0s - loss: 0.5163 - acc: 0.7300 - val_loss: 0.5180 - val_acc: 0.6927\n",
      "Epoch 17/100\n",
      " - 0s - loss: 0.5393 - acc: 0.6925 - val_loss: 0.5047 - val_acc: 0.7095\n",
      "Epoch 18/100\n",
      " - 0s - loss: 0.5232 - acc: 0.7175 - val_loss: 0.5046 - val_acc: 0.6927\n",
      "Epoch 19/100\n",
      " - 0s - loss: 0.5151 - acc: 0.7275 - val_loss: 0.5172 - val_acc: 0.6927\n",
      "Epoch 20/100\n",
      " - 0s - loss: 0.5167 - acc: 0.7300 - val_loss: 0.5146 - val_acc: 0.6927\n",
      "Epoch 21/100\n",
      " - 0s - loss: 0.5148 - acc: 0.7275 - val_loss: 0.5034 - val_acc: 0.6927\n",
      "Epoch 22/100\n",
      " - 0s - loss: 0.5144 - acc: 0.7225 - val_loss: 0.4980 - val_acc: 0.7095\n",
      "Epoch 23/100\n",
      " - 0s - loss: 0.5285 - acc: 0.7350 - val_loss: 0.5070 - val_acc: 0.6927\n",
      "Epoch 24/100\n",
      " - 0s - loss: 0.5150 - acc: 0.7325 - val_loss: 0.4999 - val_acc: 0.7039\n",
      "Epoch 25/100\n",
      " - 0s - loss: 0.5137 - acc: 0.7300 - val_loss: 0.4966 - val_acc: 0.7095\n",
      "Epoch 26/100\n",
      " - 0s - loss: 0.5143 - acc: 0.7275 - val_loss: 0.5199 - val_acc: 0.6872\n",
      "Epoch 27/100\n",
      " - 0s - loss: 0.5217 - acc: 0.7375 - val_loss: 0.5009 - val_acc: 0.7039\n",
      "Epoch 28/100\n",
      " - 0s - loss: 0.5169 - acc: 0.7150 - val_loss: 0.5022 - val_acc: 0.7039\n",
      "Epoch 29/100\n",
      " - 0s - loss: 0.5118 - acc: 0.7300 - val_loss: 0.5038 - val_acc: 0.6927\n",
      "Epoch 30/100\n",
      " - 0s - loss: 0.5201 - acc: 0.7200 - val_loss: 0.5024 - val_acc: 0.6927\n",
      "Epoch 31/100\n",
      " - 0s - loss: 0.5178 - acc: 0.7350 - val_loss: 0.5019 - val_acc: 0.7039\n",
      "Epoch 32/100\n",
      " - 0s - loss: 0.5150 - acc: 0.7325 - val_loss: 0.4979 - val_acc: 0.6983\n",
      "Epoch 33/100\n",
      " - 0s - loss: 0.5152 - acc: 0.7300 - val_loss: 0.5017 - val_acc: 0.6983\n",
      "Epoch 34/100\n",
      " - 0s - loss: 0.5138 - acc: 0.7325 - val_loss: 0.5123 - val_acc: 0.6927\n",
      "Epoch 35/100\n",
      " - 0s - loss: 0.5158 - acc: 0.7350 - val_loss: 0.5269 - val_acc: 0.6927\n",
      "Epoch 36/100\n",
      " - 0s - loss: 0.5107 - acc: 0.7425 - val_loss: 0.5127 - val_acc: 0.6927\n",
      "Epoch 37/100\n",
      " - 0s - loss: 0.5283 - acc: 0.7300 - val_loss: 0.4931 - val_acc: 0.7095\n",
      "Epoch 38/100\n",
      " - 0s - loss: 0.5176 - acc: 0.7275 - val_loss: 0.4946 - val_acc: 0.6983\n",
      "Epoch 39/100\n",
      " - 0s - loss: 0.5134 - acc: 0.7150 - val_loss: 0.4935 - val_acc: 0.7095\n",
      "Epoch 40/100\n",
      " - 0s - loss: 0.5132 - acc: 0.7325 - val_loss: 0.4927 - val_acc: 0.7039\n",
      "Epoch 41/100\n",
      " - 0s - loss: 0.5119 - acc: 0.7325 - val_loss: 0.4931 - val_acc: 0.7039\n",
      "Epoch 42/100\n",
      " - 0s - loss: 0.5198 - acc: 0.7275 - val_loss: 0.4918 - val_acc: 0.7095\n",
      "Epoch 43/100\n",
      " - 0s - loss: 0.5184 - acc: 0.7325 - val_loss: 0.5007 - val_acc: 0.6927\n",
      "Epoch 44/100\n",
      " - 0s - loss: 0.5148 - acc: 0.7150 - val_loss: 0.4979 - val_acc: 0.6983\n",
      "Epoch 45/100\n",
      " - 0s - loss: 0.5123 - acc: 0.7350 - val_loss: 0.4966 - val_acc: 0.7095\n",
      "Epoch 46/100\n",
      " - 0s - loss: 0.5087 - acc: 0.7175 - val_loss: 0.5005 - val_acc: 0.6927\n",
      "Epoch 47/100\n",
      " - 0s - loss: 0.5233 - acc: 0.7250 - val_loss: 0.4996 - val_acc: 0.6927\n",
      "Epoch 48/100\n",
      " - 0s - loss: 0.5079 - acc: 0.7225 - val_loss: 0.5299 - val_acc: 0.6983\n",
      "Epoch 49/100\n",
      " - 0s - loss: 0.5388 - acc: 0.6675 - val_loss: 0.4991 - val_acc: 0.6983\n",
      "Epoch 50/100\n",
      " - 0s - loss: 0.5106 - acc: 0.7425 - val_loss: 0.4991 - val_acc: 0.6927\n",
      "Epoch 51/100\n",
      " - 0s - loss: 0.5226 - acc: 0.7175 - val_loss: 0.4939 - val_acc: 0.6927\n",
      "Epoch 52/100\n",
      " - 0s - loss: 0.5191 - acc: 0.7300 - val_loss: 0.4994 - val_acc: 0.6927\n",
      "Epoch 53/100\n",
      " - 0s - loss: 0.5238 - acc: 0.7125 - val_loss: 0.4955 - val_acc: 0.7039\n",
      "Epoch 54/100\n",
      " - 0s - loss: 0.5258 - acc: 0.7225 - val_loss: 0.5052 - val_acc: 0.7039\n",
      "Epoch 55/100\n",
      " - 0s - loss: 0.5139 - acc: 0.7225 - val_loss: 0.4945 - val_acc: 0.7039\n",
      "Epoch 56/100\n",
      " - 0s - loss: 0.5201 - acc: 0.7250 - val_loss: 0.4967 - val_acc: 0.6927\n",
      "Epoch 57/100\n",
      " - 0s - loss: 0.5114 - acc: 0.7200 - val_loss: 0.4982 - val_acc: 0.6927\n",
      "Epoch 58/100\n",
      " - 0s - loss: 0.5252 - acc: 0.7300 - val_loss: 0.5201 - val_acc: 0.6816\n",
      "Epoch 59/100\n",
      " - 0s - loss: 0.5142 - acc: 0.7200 - val_loss: 0.4921 - val_acc: 0.7039\n",
      "Epoch 60/100\n",
      " - 0s - loss: 0.5200 - acc: 0.7275 - val_loss: 0.5094 - val_acc: 0.6927\n",
      "Epoch 61/100\n",
      " - 0s - loss: 0.5113 - acc: 0.7225 - val_loss: 0.5220 - val_acc: 0.6872\n",
      "Epoch 62/100\n",
      " - 0s - loss: 0.5146 - acc: 0.7275 - val_loss: 0.5214 - val_acc: 0.7095\n",
      "Epoch 63/100\n",
      " - 0s - loss: 0.5140 - acc: 0.7175 - val_loss: 0.5032 - val_acc: 0.6760\n",
      "Epoch 64/100\n",
      " - 0s - loss: 0.5143 - acc: 0.7350 - val_loss: 0.4926 - val_acc: 0.6927\n",
      "Epoch 65/100\n",
      " - 0s - loss: 0.5135 - acc: 0.7150 - val_loss: 0.4951 - val_acc: 0.6927\n",
      "Epoch 66/100\n",
      " - 0s - loss: 0.5119 - acc: 0.7250 - val_loss: 0.5027 - val_acc: 0.6927\n",
      "Epoch 67/100\n",
      " - 0s - loss: 0.5150 - acc: 0.7250 - val_loss: 0.5144 - val_acc: 0.6927\n",
      "Epoch 68/100\n",
      " - 0s - loss: 0.5189 - acc: 0.7150 - val_loss: 0.4920 - val_acc: 0.6927\n",
      "Epoch 69/100\n",
      " - 0s - loss: 0.5215 - acc: 0.7250 - val_loss: 0.5169 - val_acc: 0.6927\n",
      "Epoch 70/100\n",
      " - 0s - loss: 0.5256 - acc: 0.7250 - val_loss: 0.4948 - val_acc: 0.6927\n",
      "Epoch 71/100\n",
      " - 0s - loss: 0.5089 - acc: 0.7250 - val_loss: 0.5196 - val_acc: 0.6927\n",
      "Epoch 72/100\n",
      " - 0s - loss: 0.5100 - acc: 0.7250 - val_loss: 0.5004 - val_acc: 0.6927\n",
      "Epoch 73/100\n",
      " - 0s - loss: 0.5232 - acc: 0.7250 - val_loss: 0.5112 - val_acc: 0.6927\n",
      "Epoch 74/100\n",
      " - 0s - loss: 0.5172 - acc: 0.7250 - val_loss: 0.4984 - val_acc: 0.6927\n",
      "Epoch 75/100\n",
      " - 0s - loss: 0.5187 - acc: 0.7250 - val_loss: 0.4973 - val_acc: 0.6927\n",
      "Epoch 76/100\n",
      " - 0s - loss: 0.5216 - acc: 0.7250 - val_loss: 0.5188 - val_acc: 0.6927\n",
      "Epoch 77/100\n",
      " - 0s - loss: 0.5307 - acc: 0.7250 - val_loss: 0.5281 - val_acc: 0.6927\n",
      "Epoch 78/100\n",
      " - 0s - loss: 0.5122 - acc: 0.7250 - val_loss: 0.4921 - val_acc: 0.6927\n",
      "Epoch 79/100\n",
      " - 0s - loss: 0.5190 - acc: 0.7250 - val_loss: 0.4951 - val_acc: 0.6927\n",
      "Epoch 80/100\n",
      " - 0s - loss: 0.5207 - acc: 0.7250 - val_loss: 0.4995 - val_acc: 0.6927\n",
      "Epoch 81/100\n",
      " - 0s - loss: 0.5044 - acc: 0.7250 - val_loss: 0.5250 - val_acc: 0.6927\n",
      "Epoch 82/100\n",
      " - 0s - loss: 0.5218 - acc: 0.7250 - val_loss: 0.4983 - val_acc: 0.6927\n",
      "Epoch 83/100\n",
      " - 0s - loss: 0.5137 - acc: 0.7250 - val_loss: 0.5076 - val_acc: 0.6927\n",
      "Epoch 84/100\n",
      " - 0s - loss: 0.5157 - acc: 0.7250 - val_loss: 0.5054 - val_acc: 0.6927\n",
      "Epoch 85/100\n",
      " - 0s - loss: 0.5338 - acc: 0.7250 - val_loss: 0.5022 - val_acc: 0.6927\n",
      "Epoch 86/100\n",
      " - 0s - loss: 0.5124 - acc: 0.7250 - val_loss: 0.5014 - val_acc: 0.6927\n",
      "Epoch 87/100\n",
      " - 0s - loss: 0.5196 - acc: 0.7250 - val_loss: 0.5255 - val_acc: 0.6927\n",
      "Epoch 88/100\n",
      " - 0s - loss: 0.5194 - acc: 0.7250 - val_loss: 0.5097 - val_acc: 0.6927\n",
      "Epoch 89/100\n",
      " - 0s - loss: 0.5131 - acc: 0.7250 - val_loss: 0.5289 - val_acc: 0.6927\n",
      "Epoch 90/100\n",
      " - 0s - loss: 0.5394 - acc: 0.7250 - val_loss: 0.5000 - val_acc: 0.6927\n",
      "Epoch 91/100\n",
      " - 0s - loss: 0.5164 - acc: 0.7250 - val_loss: 0.4983 - val_acc: 0.6927\n",
      "Epoch 92/100\n",
      " - 0s - loss: 0.5133 - acc: 0.7250 - val_loss: 0.4968 - val_acc: 0.6927\n",
      "Epoch 93/100\n",
      " - 0s - loss: 0.5223 - acc: 0.7250 - val_loss: 0.5057 - val_acc: 0.6927\n",
      "Epoch 94/100\n",
      " - 0s - loss: 0.5154 - acc: 0.7250 - val_loss: 0.4859 - val_acc: 0.6927\n",
      "Epoch 95/100\n",
      " - 0s - loss: 0.5179 - acc: 0.7250 - val_loss: 0.4954 - val_acc: 0.6927\n",
      "Epoch 96/100\n",
      " - 0s - loss: 0.5109 - acc: 0.7250 - val_loss: 0.4931 - val_acc: 0.6927\n"
     ]
    },
    {
     "name": "stdout",
     "output_type": "stream",
     "text": [
      "Epoch 97/100\n",
      " - 0s - loss: 0.5133 - acc: 0.7250 - val_loss: 0.4864 - val_acc: 0.6927\n",
      "Epoch 98/100\n",
      " - 0s - loss: 0.5253 - acc: 0.7250 - val_loss: 0.4965 - val_acc: 0.6927\n",
      "Epoch 99/100\n",
      " - 0s - loss: 0.5099 - acc: 0.7250 - val_loss: 0.5038 - val_acc: 0.6927\n",
      "Epoch 100/100\n",
      " - 0s - loss: 0.5199 - acc: 0.7250 - val_loss: 0.5106 - val_acc: 0.6927\n"
     ]
    },
    {
     "data": {
      "text/plain": [
       "<keras.callbacks.History at 0xb790499320>"
      ]
     },
     "execution_count": 64,
     "metadata": {},
     "output_type": "execute_result"
    }
   ],
   "source": [
    "model.fit(X_train,Y_train, epochs = 100,batch_size = 10,shuffle = True, verbose = 2,validation_data=(X_test,Y_test))"
   ]
  },
  {
   "cell_type": "code",
   "execution_count": 16,
   "metadata": {},
   "outputs": [
    {
     "name": "stdout",
     "output_type": "stream",
     "text": [
      "179/179 [==============================] - 0s 62us/step\n",
      "0.49527645743758986 0.6927374314995451\n"
     ]
    }
   ],
   "source": [
    "val_loss, val_acc = model.evaluate(X_test,Y_test)\n",
    "print(val_loss, val_acc)"
   ]
  },
  {
   "cell_type": "code",
   "execution_count": 26,
   "metadata": {},
   "outputs": [
    {
     "data": {
      "text/plain": [
       "(179, 10)"
      ]
     },
     "execution_count": 26,
     "metadata": {},
     "output_type": "execute_result"
    }
   ],
   "source": [
    "X_train.head()\n",
    "Y_train.head()\n",
    "X_test.shape\n",
    "#Y_test.shape"
   ]
  },
  {
   "cell_type": "code",
   "execution_count": 58,
   "metadata": {},
   "outputs": [
    {
     "data": {
      "text/plain": [
       "47"
      ]
     },
     "execution_count": 58,
     "metadata": {},
     "output_type": "execute_result"
    }
   ],
   "source": [
    "Y_test.values.sum()"
   ]
  },
  {
   "cell_type": "code",
   "execution_count": 8,
   "metadata": {},
   "outputs": [],
   "source": [
    "dicty = {'activation' : 'relu', 'units' : 9, 'input_dim' : 9}\n",
    "def gg(**kwargs):\n",
    "    print(kwargs)\n",
    "    model = Sequential()\n",
    "    model.add(Dense(**kwargs))\n",
    "    #model.add(Dense(units = 1,kernel_initializer= 'normal', activation = 'sigmoid'))\n",
    "    return model\n",
    "    #print(**kwargs)"
   ]
  },
  {
   "cell_type": "code",
   "execution_count": 9,
   "metadata": {},
   "outputs": [
    {
     "name": "stdout",
     "output_type": "stream",
     "text": [
      "{'activation': 'relu', 'units': 9, 'input_dim': 9}\n"
     ]
    },
    {
     "ename": "NameError",
     "evalue": "name 'Sequential' is not defined",
     "output_type": "error",
     "traceback": [
      "\u001b[1;31m---------------------------------------------------------------------------\u001b[0m",
      "\u001b[1;31mNameError\u001b[0m                                 Traceback (most recent call last)",
      "\u001b[1;32m<ipython-input-9-844cd90521ad>\u001b[0m in \u001b[0;36m<module>\u001b[1;34m()\u001b[0m\n\u001b[1;32m----> 1\u001b[1;33m \u001b[0mmody\u001b[0m \u001b[1;33m=\u001b[0m \u001b[0mgg\u001b[0m\u001b[1;33m(\u001b[0m\u001b[1;33m**\u001b[0m\u001b[0mdicty\u001b[0m\u001b[1;33m)\u001b[0m\u001b[1;33m\u001b[0m\u001b[0m\n\u001b[0m\u001b[0;32m      2\u001b[0m \u001b[0mmody\u001b[0m\u001b[1;33m.\u001b[0m\u001b[0mget_config\u001b[0m\u001b[1;33m(\u001b[0m\u001b[1;33m)\u001b[0m\u001b[1;33m\u001b[0m\u001b[0m\n",
      "\u001b[1;32m<ipython-input-8-7de5b67dc92c>\u001b[0m in \u001b[0;36mgg\u001b[1;34m(**kwargs)\u001b[0m\n\u001b[0;32m      2\u001b[0m \u001b[1;32mdef\u001b[0m \u001b[0mgg\u001b[0m\u001b[1;33m(\u001b[0m\u001b[1;33m**\u001b[0m\u001b[0mkwargs\u001b[0m\u001b[1;33m)\u001b[0m\u001b[1;33m:\u001b[0m\u001b[1;33m\u001b[0m\u001b[0m\n\u001b[0;32m      3\u001b[0m     \u001b[0mprint\u001b[0m\u001b[1;33m(\u001b[0m\u001b[0mkwargs\u001b[0m\u001b[1;33m)\u001b[0m\u001b[1;33m\u001b[0m\u001b[0m\n\u001b[1;32m----> 4\u001b[1;33m     \u001b[0mmodel\u001b[0m \u001b[1;33m=\u001b[0m \u001b[0mSequential\u001b[0m\u001b[1;33m(\u001b[0m\u001b[1;33m)\u001b[0m\u001b[1;33m\u001b[0m\u001b[0m\n\u001b[0m\u001b[0;32m      5\u001b[0m     \u001b[0mmodel\u001b[0m\u001b[1;33m.\u001b[0m\u001b[0madd\u001b[0m\u001b[1;33m(\u001b[0m\u001b[0mDense\u001b[0m\u001b[1;33m(\u001b[0m\u001b[1;33m**\u001b[0m\u001b[0mkwargs\u001b[0m\u001b[1;33m)\u001b[0m\u001b[1;33m)\u001b[0m\u001b[1;33m\u001b[0m\u001b[0m\n\u001b[0;32m      6\u001b[0m     \u001b[1;31m#model.add(Dense(units = 1,kernel_initializer= 'normal', activation = 'sigmoid'))\u001b[0m\u001b[1;33m\u001b[0m\u001b[1;33m\u001b[0m\u001b[0m\n",
      "\u001b[1;31mNameError\u001b[0m: name 'Sequential' is not defined"
     ]
    }
   ],
   "source": [
    "mody = gg(**dicty)\n",
    "mody.get_config()"
   ]
  },
  {
   "cell_type": "code",
   "execution_count": 46,
   "metadata": {},
   "outputs": [],
   "source": [
    "y_pred = model.predict(X_test)"
   ]
  },
  {
   "cell_type": "code",
   "execution_count": 47,
   "metadata": {},
   "outputs": [],
   "source": [
    "from sklearn.metrics import confusion_matrix"
   ]
  },
  {
   "cell_type": "code",
   "execution_count": 48,
   "metadata": {},
   "outputs": [],
   "source": [
    "cm = confusion_matrix(Y_test, (y_pred > 0.5))"
   ]
  },
  {
   "cell_type": "code",
   "execution_count": 49,
   "metadata": {},
   "outputs": [
    {
     "name": "stdout",
     "output_type": "stream",
     "text": [
      "[[124   0]\n",
      " [ 55   0]]\n"
     ]
    }
   ],
   "source": [
    "print(cm)"
   ]
  },
  {
   "cell_type": "code",
   "execution_count": 139,
   "metadata": {},
   "outputs": [
    {
     "data": {
      "text/plain": [
       "561    0\n",
       "26     0\n",
       "448    0\n",
       "223    1\n",
       "315    1\n",
       "210    0\n",
       "231    0\n",
       "89     0\n",
       "488    1\n",
       "567    0\n",
       "395    1\n",
       "434    1\n",
       "430    0\n",
       "116    0\n",
       "394    0\n",
       "416    0\n",
       "257    0\n",
       "523    0\n",
       "531    0\n",
       "503    0\n",
       "463    0\n",
       "443    0\n",
       "32     1\n",
       "378    0\n",
       "528    0\n",
       "317    0\n",
       "506    0\n",
       "540    1\n",
       "551    1\n",
       "140    1\n",
       "      ..\n",
       "13     0\n",
       "31     0\n",
       "471    1\n",
       "284    0\n",
       "479    0\n",
       "507    0\n",
       "428    1\n",
       "514    0\n",
       "124    1\n",
       "369    0\n",
       "314    0\n",
       "508    0\n",
       "309    0\n",
       "6      0\n",
       "355    1\n",
       "194    1\n",
       "354    0\n",
       "19     0\n",
       "482    0\n",
       "239    0\n",
       "480    1\n",
       "40     0\n",
       "387    0\n",
       "400    1\n",
       "432    0\n",
       "301    0\n",
       "516    0\n",
       "52     0\n",
       "56     1\n",
       "566    1\n",
       "Name: Label, Length: 175, dtype: int64"
      ]
     },
     "execution_count": 139,
     "metadata": {},
     "output_type": "execute_result"
    }
   ],
   "source": [
    "Y_test"
   ]
  },
  {
   "cell_type": "code",
   "execution_count": null,
   "metadata": {},
   "outputs": [],
   "source": [
    "for elem in range(number_of_char): #wybór charakterystyk\n",
    "    for elem_2 in [1,5,10]: # ilość neuronów\n",
    "        for optim in ['adam','sgd']: # momentum i brak momentum\n",
    "                for elem_4 in range(1): #5 prób (potrzebna jeszcze zamiana test na train)\n",
    "                    #łączna ilość modeli = 2*5*2*3*10\n",
    "                    model = Sequential()\n",
    "                    model.add(Dense(units = 10,activation = 'relu',input_shape = (10,)))\n",
    "                    model.add(Dense(units = 1,kernel_initializer= 'normal', activation = 'sigmoid'))\n",
    "                    \n",
    "                    model.compile(optimizer= optim,loss= 'binary_crossentropy', metrics= ['accuracy'])\n",
    "                    \n",
    "                    model.fit(X_train,Y_train, epochs = 100,batch_size = 10,shuffle = True, verbose = 2)\n",
    "                    \n",
    "                    val_loss, val_acc = model.evaluate(X_test,Y_test)"
   ]
  }
 ],
 "metadata": {
  "kernelspec": {
   "display_name": "Python 3",
   "language": "python",
   "name": "python3"
  },
  "language_info": {
   "codemirror_mode": {
    "name": "ipython",
    "version": 3
   },
   "file_extension": ".py",
   "mimetype": "text/x-python",
   "name": "python",
   "nbconvert_exporter": "python",
   "pygments_lexer": "ipython3",
   "version": "3.6.5"
  }
 },
 "nbformat": 4,
 "nbformat_minor": 2
}
